{
 "cells": [
  {
   "cell_type": "markdown",
   "id": "970fa2e3",
   "metadata": {},
   "source": [
    "### Import Library"
   ]
  },
  {
   "cell_type": "code",
   "execution_count": 27,
   "id": "2ba09d07",
   "metadata": {},
   "outputs": [],
   "source": [
    "from langchain_community.document_loaders import TextLoader\n",
    "from langchain.text_splitter import RecursiveCharacterTextSplitter\n",
    "from langchain_google_genai import ChatGoogleGenerativeAI\n",
    "from langchain_redis import RedisVectorStore\n",
    "from langchain_google_genai import GoogleGenerativeAIEmbeddings\n",
    "from langchain_core.prompts import ChatPromptTemplate\n",
    "import os \n",
    "from dotenv import load_dotenv\n",
    "load_dotenv()\n",
    "os.environ[\"GOOGLE_API_KEY\"] = os.getenv(\"GOOGLE_API_KEY\")"
   ]
  },
  {
   "cell_type": "code",
   "execution_count": 28,
   "id": "4addaf49",
   "metadata": {},
   "outputs": [
    {
     "name": "stdout",
     "output_type": "stream",
     "text": [
      "\u001b[32m12:03:11\u001b[0m \u001b[34mredisvl.index.index\u001b[0m \u001b[1;30mINFO\u001b[0m   Index already exists, not overwriting.\n",
      "Succesffully added documents to Redis Vector Store\n"
     ]
    }
   ],
   "source": [
    "# Load the Google Generative AI model\n",
    "loader = TextLoader(\"data/sample_data.txt\")\n",
    "documents = loader.load()\n",
    "\n",
    "# split data into chunks\n",
    "text_splitter = RecursiveCharacterTextSplitter(chunk_size=1000, chunk_overlap=200)\n",
    "\n",
    "texts = text_splitter.split_documents(documents)\n",
    "\n",
    "# embed the data\n",
    "embeddings = GoogleGenerativeAIEmbeddings(\n",
    "  model=\"models/text-embedding-004\",\n",
    "  google_api_key=os.getenv(\"GOOGLE_API_KEY\"),\n",
    ")\n",
    "\n",
    "# redis vector store\n",
    "vector_store = RedisVectorStore(\n",
    "  redis_url= os.getenv(\"REDIS_URL\"),\n",
    "  index_name=\"langchain_index\",\n",
    "  embeddings=embeddings,\n",
    "  index_type=\"hnsw\",\n",
    ")\n",
    "\n",
    "vector_store.add_documents(texts)\n",
    "print(\"Succesffully added documents to Redis Vector Store\")"
   ]
  },
  {
   "cell_type": "code",
   "execution_count": 29,
   "id": "add7472c",
   "metadata": {},
   "outputs": [
    {
     "data": {
      "text/plain": [
       "[Document(metadata={}, page_content='Curriculum Vitae\\n\\nNama Lengkap: Isnania Ramalia  \\nStatus: Mahasiswa aktif  \\nProgram Studi: Teknik Informatika  \\nUniversitas: Universitas Dian Nuswantoro (Udinus), Semarang  \\nSemester: 5  \\nDomisili: Semarang  \\nEmail: isnanramalia@example.com  \\nBlog: https://medium.com/@isnanramalia  \\nTujuan Karir: Menjadi Frontend Developer atau UI UX Designer\\n\\nPengalaman Organisasi\\n\\nDianus Wantoro Computer Club NCC  \\n- Anggota aktif  \\n- Kegiatan: pengembangan software, kompetisi pemrograman, pelatihan internal\\n\\nAsisten Mata Kuliah Bengkel Koding  \\n- Membantu mahasiswa memahami materi praktikum pemrograman\\n\\nProyek dan Pengalaman\\n\\nLeolit Games Website  \\n- Stack: Next.js 15, Tailwind CSS, TypeScript, Bun, ShadCN, Framer Motion  \\n- Peran: Frontend Developer dan UI Designer  \\n- Fitur: Carousel, tampilan markdown dinamis, table of contents, fitur survei admin dan koordinator'),\n",
       " Document(metadata={}, page_content='Curriculum Vitae\\n\\nNama Lengkap: Isnania Ramalia  \\nStatus: Mahasiswa aktif  \\nProgram Studi: Teknik Informatika  \\nUniversitas: Universitas Dian Nuswantoro (Udinus), Semarang  \\nSemester: 5  \\nDomisili: Semarang  \\nEmail: isnanramalia@example.com  \\nBlog: https://medium.com/@isnanramalia  \\nTujuan Karir: Menjadi Frontend Developer atau UI UX Designer\\n\\nPengalaman Organisasi\\n\\nDianus Wantoro Computer Club NCC  \\n- Anggota aktif  \\n- Kegiatan: pengembangan software, kompetisi pemrograman, pelatihan internal\\n\\nAsisten Mata Kuliah Bengkel Koding  \\n- Membantu mahasiswa memahami materi praktikum pemrograman\\n\\nProyek dan Pengalaman\\n\\nLeolit Games Website  \\n- Stack: Next.js 15, Tailwind CSS, TypeScript, Bun, ShadCN, Framer Motion  \\n- Peran: Frontend Developer dan UI Designer  \\n- Fitur: Carousel, tampilan markdown dinamis, table of contents, fitur survei admin dan koordinator'),\n",
       " Document(metadata={}, page_content='Curriculum Vitae\\n\\nNama Lengkap: Isnania Ramalia  \\nStatus: Mahasiswa aktif  \\nProgram Studi: Teknik Informatika  \\nUniversitas: Universitas Dian Nuswantoro (Udinus), Semarang  \\nSemester: 5  \\nDomisili: Semarang  \\nEmail: isnanramalia@example.com  \\nBlog: https://medium.com/@isnanramalia  \\nTujuan Karir: Menjadi Frontend Developer atau UI UX Designer\\n\\nPengalaman Organisasi\\n\\nDianus Wantoro Computer Club NCC  \\n- Anggota aktif  \\n- Kegiatan: pengembangan software, kompetisi pemrograman, pelatihan internal\\n\\nAsisten Mata Kuliah Bengkel Koding  \\n- Membantu mahasiswa memahami materi praktikum pemrograman\\n\\nProyek dan Pengalaman\\n\\nLeolit Games Website  \\n- Stack: Next.js 15, Tailwind CSS, TypeScript, Bun, ShadCN, Framer Motion  \\n- Peran: Frontend Developer dan UI Designer  \\n- Fitur: Carousel, tampilan markdown dinamis, table of contents, fitur survei admin dan koordinator')]"
      ]
     },
     "execution_count": 29,
     "metadata": {},
     "output_type": "execute_result"
    }
   ],
   "source": [
    "vector_store.similarity_search(\"Isna\", k=3)"
   ]
  },
  {
   "cell_type": "code",
   "execution_count": 30,
   "id": "a4003999",
   "metadata": {},
   "outputs": [],
   "source": [
    "llm = ChatGoogleGenerativeAI(\n",
    "  model=\"gemini-1.5-flash\",\n",
    "  google_api_key=os.getenv(\"GOOGLE_API_KEY\")\n",
    "  )"
   ]
  },
  {
   "cell_type": "code",
   "execution_count": 31,
   "id": "0e2f8eef",
   "metadata": {},
   "outputs": [
    {
     "data": {
      "text/plain": [
       "AIMessage(content='Saya tidak memiliki informasi tentang siapa Isna.  Isna mungkin nama seseorang, tempat, atau hal lain.  Untuk mendapatkan informasi lebih lanjut, saya memerlukan konteks tambahan.  Bisakah Anda memberikan informasi lebih detail tentang siapa atau apa Isna yang Anda maksud?\\n', additional_kwargs={}, response_metadata={'prompt_feedback': {'block_reason': 0, 'safety_ratings': []}, 'finish_reason': 'STOP', 'safety_ratings': []}, id='run--7731761b-dbd2-4a43-8a48-2629b41b66f7-0', usage_metadata={'input_tokens': 5, 'output_tokens': 54, 'total_tokens': 59})"
      ]
     },
     "execution_count": 31,
     "metadata": {},
     "output_type": "execute_result"
    }
   ],
   "source": [
    "llm.invoke(\"siapa isna?\")"
   ]
  },
  {
   "cell_type": "markdown",
   "id": "dfd25d60",
   "metadata": {},
   "source": [
    "### implementasion\n",
    "\n",
    "[example web](widyaseni.web.id)"
   ]
  },
  {
   "cell_type": "code",
   "execution_count": 33,
   "id": "17807b4b",
   "metadata": {},
   "outputs": [
    {
     "data": {
      "text/plain": [
       "AIMessage(content='Isna, atau Isnania Ramalia, adalah seorang mahasiswi aktif semester 5 di Program Studi Teknik Informatika, Universitas Dian Nuswantoro (Udinus), Semarang.  Ia berdomisili di Semarang dan memiliki tujuan karir untuk menjadi Frontend Developer atau UI UX Designer.\\n', additional_kwargs={}, response_metadata={'prompt_feedback': {'block_reason': 0, 'safety_ratings': []}, 'finish_reason': 'STOP', 'safety_ratings': []}, id='run--caf50035-05ce-4465-a50a-37d12ca4f69b-0', usage_metadata={'input_tokens': 820, 'output_tokens': 60, 'total_tokens': 880})"
      ]
     },
     "execution_count": 33,
     "metadata": {},
     "output_type": "execute_result"
    }
   ],
   "source": [
    "template =\"\"\"\n",
    "anda adalah bot yang bertugas menjawab pertanyaan terkait data diri Isna. \n",
    "Ini adalah context yang bisa kamu gunakan untuk menjawab pertanyaan: {context}\n",
    "\n",
    "Pertanyaan: {question}\n",
    "\n",
    "\"\"\"\n",
    "\n",
    "prompt = ChatPromptTemplate.from_messages([\n",
    "    (\"system\", template),\n",
    "    # (\"human\", \"{question}\"),\n",
    "    # (\"assistant\", \"{context}\")\n",
    "    (\"user\", \"{question}\"),\n",
    "])\n",
    "\n",
    "chain =(\n",
    "  {\n",
    "    \"context\": lambda x: vector_store.similarity_search(x[\"question\"], k=3),\n",
    "    \"question\": lambda x: x[\"question\"],\n",
    "  }\n",
    "  | prompt\n",
    "  | llm\n",
    ")\n",
    "\n",
    "chain.invoke({\"question\": \"siapa isna?\"})"
   ]
  }
 ],
 "metadata": {
  "kernelspec": {
   "display_name": ".venv",
   "language": "python",
   "name": "python3"
  },
  "language_info": {
   "codemirror_mode": {
    "name": "ipython",
    "version": 3
   },
   "file_extension": ".py",
   "mimetype": "text/x-python",
   "name": "python",
   "nbconvert_exporter": "python",
   "pygments_lexer": "ipython3",
   "version": "3.11.12"
  }
 },
 "nbformat": 4,
 "nbformat_minor": 5
}
